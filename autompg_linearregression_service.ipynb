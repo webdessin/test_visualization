{
  "nbformat": 4,
  "nbformat_minor": 0,
  "metadata": {
    "colab": {
      "name": "autompg_linearregression_service.ipynb",
      "provenance": [],
      "authorship_tag": "ABX9TyMGtG5rQs5hPsXVFY41Io3J"
    },
    "kernelspec": {
      "name": "python3",
      "display_name": "Python 3"
    },
    "language_info": {
      "name": "python"
    }
  },
  "cells": [
    {
      "cell_type": "code",
      "metadata": {
        "colab": {
          "base_uri": "https://localhost:8080/"
        },
        "id": "tYKr0WV0mGT0",
        "outputId": "62298ba5-bc61-4ec1-fcda-0509462efe49"
      },
      "source": [
        "!ls -l ./autompg_lr.pkl"
      ],
      "execution_count": 1,
      "outputs": [
        {
          "output_type": "stream",
          "text": [
            "-rw-r--r-- 1 root root 567 Jul  6 02:17 ./autompg_lr.pkl\n"
          ],
          "name": "stdout"
        }
      ]
    },
    {
      "cell_type": "code",
      "metadata": {
        "id": "xpCVUFrpm4eP"
      },
      "source": [
        "import pickle"
      ],
      "execution_count": 2,
      "outputs": []
    },
    {
      "cell_type": "markdown",
      "metadata": {
        "id": "l-zGeDQknWRe"
      },
      "source": [
        "# load pickle with linear regression"
      ]
    },
    {
      "cell_type": "code",
      "metadata": {
        "colab": {
          "base_uri": "https://localhost:8080/"
        },
        "id": "x3-X83cHnMJV",
        "outputId": "e933b4f0-76bb-42c6-c5ad-2907c65c0e49"
      },
      "source": [
        "import pickle\n",
        "lr = pickle.load(open('./autompg_lr.pkl', 'rb'))\n",
        "type(lr)"
      ],
      "execution_count": 8,
      "outputs": [
        {
          "output_type": "execute_result",
          "data": {
            "text/plain": [
              "sklearn.linear_model._base.LinearRegression"
            ]
          },
          "metadata": {
            "tags": []
          },
          "execution_count": 8
        }
      ]
    },
    {
      "cell_type": "code",
      "metadata": {
        "colab": {
          "base_uri": "https://localhost:8080/"
        },
        "id": "umnUZj6juNFn",
        "outputId": "95b89974-fa41-46fe-c340-a8161680d850"
      },
      "source": [
        "scaler = pickle.load(open('./autompg_standardscaler.pkl','rb'))\n",
        "type(scaler)"
      ],
      "execution_count": 9,
      "outputs": [
        {
          "output_type": "execute_result",
          "data": {
            "text/plain": [
              "sklearn.preprocessing._data.StandardScaler"
            ]
          },
          "metadata": {
            "tags": []
          },
          "execution_count": 9
        }
      ]
    },
    {
      "cell_type": "code",
      "metadata": {
        "id": "J6DCdoQHun0D"
      },
      "source": [
        ""
      ],
      "execution_count": null,
      "outputs": []
    }
  ]
}
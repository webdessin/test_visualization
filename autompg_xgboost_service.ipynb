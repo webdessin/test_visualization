{
  "nbformat": 4,
  "nbformat_minor": 0,
  "metadata": {
    "colab": {
      "name": "autompg_xgboost_service.ipynb",
      "provenance": [],
      "collapsed_sections": [],
      "authorship_tag": "ABX9TyORN0k5AxYoEWrCzTGWteWy"
    },
    "kernelspec": {
      "name": "python3",
      "display_name": "Python 3"
    },
    "language_info": {
      "name": "python"
    }
  },
  "cells": [
    {
      "cell_type": "markdown",
      "metadata": {
        "id": "l-zGeDQknWRe"
      },
      "source": [
        "# load pickle with xgboost and scaler"
      ]
    },
    {
      "cell_type": "code",
      "metadata": {
        "colab": {
          "base_uri": "https://localhost:8080/"
        },
        "id": "x3-X83cHnMJV",
        "outputId": "41d38829-ca6c-4308-9631-dee780dcbe0c"
      },
      "source": [
        "import pickle\n",
        "model = pickle.load(open('./xgb_model.pkl', 'rb'))\n",
        "type(model)"
      ],
      "execution_count": 2,
      "outputs": [
        {
          "output_type": "stream",
          "text": [
            "[00:21:32] WARNING: /workspace/src/objective/regression_obj.cu:152: reg:linear is now deprecated in favor of reg:squarederror.\n"
          ],
          "name": "stdout"
        },
        {
          "output_type": "execute_result",
          "data": {
            "text/plain": [
              "xgboost.sklearn.XGBRegressor"
            ]
          },
          "metadata": {
            "tags": []
          },
          "execution_count": 2
        }
      ]
    },
    {
      "cell_type": "code",
      "metadata": {
        "colab": {
          "base_uri": "https://localhost:8080/"
        },
        "id": "umnUZj6juNFn",
        "outputId": "1fe483c2-46bb-4278-ae7f-a1371f107a7b"
      },
      "source": [
        "scaler = pickle.load(open('./scaler_xgb.pkl','rb'))\n",
        "type(scaler)"
      ],
      "execution_count": 3,
      "outputs": [
        {
          "output_type": "execute_result",
          "data": {
            "text/plain": [
              "sklearn.preprocessing._data.StandardScaler"
            ]
          },
          "metadata": {
            "tags": []
          },
          "execution_count": 3
        }
      ]
    },
    {
      "cell_type": "markdown",
      "metadata": {
        "id": "IHX80qZh_0h3"
      },
      "source": [
        "# Predict"
      ]
    },
    {
      "cell_type": "code",
      "metadata": {
        "id": "J6DCdoQHun0D"
      },
      "source": [
        "\n",
        "displacement = 307.0\n",
        "horsepower = 130.0\n",
        "weight = 3504.0\n",
        "acceleration = 12.0\n",
        "cylinders = 8\n",
        "origin = 1\n",
        "\n",
        "if cylinders == 3:\n",
        "  cylinder = [1,0,0,0,0]\n",
        "elif cylinders == 4:\n",
        "  cylinder = [0,1,0,0,0]\n",
        "elif cylinders == 5:\n",
        "  cylinder = [0,0,1,0,0]\n",
        "elif cylinders == 6:\n",
        "  cylinder = [0,0,0,1,0]\n",
        "elif cylinders == 8:\n",
        "  cylinder = [0,0,0,0,1]\n",
        "\n",
        "if origin == 1:\n",
        "  origin = [1,0,0]\n",
        "elif origin == 2:\n",
        "  origin = [0,1,0]\n",
        "elif origin == 3:\n",
        "  origin = [0,0,1]\n",
        "\n",
        "x_custom = [[displacement, horsepower, weight, acceleration, cylinder, origin]]\n",
        "# [[307.0, 130.0, 3504.0, 12.0]]\n",
        "# [[307.0, 130.0, 3504.0, 12.0, {0, 0, 0, 0, 1}, {1, 0, 0}]]\n",
        "# [[307.0, 130.0, 3504.0, 12.0, 0, 0, 0, 0, 1, 1, 0, 0]]\n"
      ],
      "execution_count": 4,
      "outputs": []
    },
    {
      "cell_type": "code",
      "metadata": {
        "colab": {
          "base_uri": "https://localhost:8080/"
        },
        "id": "j_LSIkp7-bkT",
        "outputId": "a5062178-406c-40ea-ac05-d77fc4f4ff80"
      },
      "source": [
        "x_custom = scaler.transform([[307.0, 130.0, 3504.0, 12.0, 0, 0, 0, 0, 1, 1, 0, 0]])\n",
        "x_custom.shape"
      ],
      "execution_count": 5,
      "outputs": [
        {
          "output_type": "execute_result",
          "data": {
            "text/plain": [
              "(1, 12)"
            ]
          },
          "metadata": {
            "tags": []
          },
          "execution_count": 5
        }
      ]
    },
    {
      "cell_type": "code",
      "metadata": {
        "colab": {
          "base_uri": "https://localhost:8080/"
        },
        "id": "VI6dgxYFCAon",
        "outputId": "226300ea-a8bf-4359-c2b9-f97bfa54e3a5"
      },
      "source": [
        "y_pred = model.predict(x_custom)\n",
        "y_pred[0]"
      ],
      "execution_count": 6,
      "outputs": [
        {
          "output_type": "execute_result",
          "data": {
            "text/plain": [
              "16.379528"
            ]
          },
          "metadata": {
            "tags": []
          },
          "execution_count": 6
        }
      ]
    }
  ]
}
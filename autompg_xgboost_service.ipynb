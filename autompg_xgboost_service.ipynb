{
  "nbformat": 4,
  "nbformat_minor": 0,
  "metadata": {
    "colab": {
      "name": "autompg_xgboost_service.ipynb",
      "provenance": [],
      "collapsed_sections": [],
      "authorship_tag": "ABX9TyMK+Moc8jiTIsjDkVhwRUtT"
    },
    "kernelspec": {
      "name": "python3",
      "display_name": "Python 3"
    },
    "language_info": {
      "name": "python"
    }
  },
  "cells": [
    {
      "cell_type": "markdown",
      "metadata": {
        "id": "l-zGeDQknWRe"
      },
      "source": [
        "# load pickle with xgboost and scaler"
      ]
    },
    {
      "cell_type": "code",
      "metadata": {
        "colab": {
          "base_uri": "https://localhost:8080/"
        },
        "id": "x3-X83cHnMJV",
        "outputId": "9587297d-f75f-4b51-b3ef-4ee1859317ef"
      },
      "source": [
        "import pickle\n",
        "model = pickle.load(open('./xgb_model.pkl', 'rb'))\n",
        "type(model)"
      ],
      "execution_count": 1,
      "outputs": [
        {
          "output_type": "stream",
          "text": [
            "[08:28:08] WARNING: /workspace/src/objective/regression_obj.cu:152: reg:linear is now deprecated in favor of reg:squarederror.\n"
          ],
          "name": "stdout"
        },
        {
          "output_type": "execute_result",
          "data": {
            "text/plain": [
              "xgboost.sklearn.XGBRegressor"
            ]
          },
          "metadata": {
            "tags": []
          },
          "execution_count": 1
        }
      ]
    },
    {
      "cell_type": "code",
      "metadata": {
        "colab": {
          "base_uri": "https://localhost:8080/"
        },
        "id": "umnUZj6juNFn",
        "outputId": "a5f4bf98-c84a-4c73-e989-da43dd8df2d2"
      },
      "source": [
        "scaler = pickle.load(open('./scaler_xgb.pkl','rb'))\n",
        "type(scaler)"
      ],
      "execution_count": 2,
      "outputs": [
        {
          "output_type": "execute_result",
          "data": {
            "text/plain": [
              "sklearn.preprocessing._data.StandardScaler"
            ]
          },
          "metadata": {
            "tags": []
          },
          "execution_count": 2
        }
      ]
    },
    {
      "cell_type": "markdown",
      "metadata": {
        "id": "IHX80qZh_0h3"
      },
      "source": [
        "# Predict"
      ]
    },
    {
      "cell_type": "code",
      "metadata": {
        "id": "J6DCdoQHun0D"
      },
      "source": [
        "\n",
        "displacement = 307.0\n",
        "horsepower = 130.0\n",
        "weight = 3504.0\n",
        "acceleration = 12.0\n",
        "cylinders = 8\n",
        "origin = 1\n",
        "\n",
        "if cylinders == 3:\n",
        "  cylinder = [1,0,0,0,0]\n",
        "elif cylinders == 4:\n",
        "  cylinder = [0,1,0,0,0]\n",
        "elif cylinders == 5:\n",
        "  cylinder = [0,0,1,0,0]\n",
        "elif cylinders == 6:\n",
        "  cylinder = [0,0,0,1,0]\n",
        "elif cylinders == 8:\n",
        "  cylinder = [0,0,0,0,1]\n",
        "\n",
        "if origin == 1:\n",
        "  origin = [1,0,0]\n",
        "elif origin == 2:\n",
        "  origin = [0,1,0]\n",
        "elif origin == 3:\n",
        "  origin = [0,0,1]\n",
        "\n",
        "x_custom = [[displacement, horsepower, weight, acceleration, cylinder, origin]]\n",
        "# [[307.0, 130.0, 3504.0, 12.0]]\n",
        "# [[307.0, 130.0, 3504.0, 12.0, {0, 0, 0, 0, 1}, {1, 0, 0}]]\n",
        "# [[307.0, 130.0, 3504.0, 12.0, 0, 0, 0, 0, 1, 1, 0, 0]]\n"
      ],
      "execution_count": 8,
      "outputs": []
    },
    {
      "cell_type": "code",
      "metadata": {
        "colab": {
          "base_uri": "https://localhost:8080/"
        },
        "id": "j_LSIkp7-bkT",
        "outputId": "dec414c2-1859-438b-fbd9-5701a09441a9"
      },
      "source": [
        "x_custom = scaler.transform([[307.0, 130.0, 3504.0, 12.0, 0, 0, 0, 0, 1, 1, 0, 0]])\n",
        "x_custom.shape"
      ],
      "execution_count": 10,
      "outputs": [
        {
          "output_type": "execute_result",
          "data": {
            "text/plain": [
              "(1, 12)"
            ]
          },
          "metadata": {
            "tags": []
          },
          "execution_count": 10
        }
      ]
    },
    {
      "cell_type": "code",
      "metadata": {
        "colab": {
          "base_uri": "https://localhost:8080/"
        },
        "id": "VI6dgxYFCAon",
        "outputId": "f2fce8bc-37a0-452d-95dc-f42e61bc4b6a"
      },
      "source": [
        "y_pred = scaler.transform(x_custom)\n",
        "y_pred[0]"
      ],
      "execution_count": 11,
      "outputs": [
        {
          "output_type": "execute_result",
          "data": {
            "text/plain": [
              "array([ 3.07000000e+02,  1.30000000e+02,  3.50400000e+03,  1.20000000e+01,\n",
              "        3.68214671e-17,  1.07116995e-16, -3.57056651e-17, -7.14113302e-17,\n",
              "        1.00000000e+00,  1.00000000e+00, -6.69481221e-17,  3.57056651e-17])"
            ]
          },
          "metadata": {
            "tags": []
          },
          "execution_count": 11
        }
      ]
    },
    {
      "cell_type": "code",
      "metadata": {
        "id": "NJ07SGdk-8xG"
      },
      "source": [
        ""
      ],
      "execution_count": null,
      "outputs": []
    }
  ]
}
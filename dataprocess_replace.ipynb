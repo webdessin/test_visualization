{
  "nbformat": 4,
  "nbformat_minor": 0,
  "metadata": {
    "colab": {
      "name": "dataprocess_replace.ipynb",
      "provenance": [],
      "collapsed_sections": [],
      "authorship_tag": "ABX9TyMEnxl0TG2jxIZv/KJf/aQz"
    },
    "kernelspec": {
      "name": "python3",
      "display_name": "Python 3"
    },
    "language_info": {
      "name": "python"
    }
  },
  "cells": [
    {
      "cell_type": "code",
      "metadata": {
        "id": "pd1MfA8zuLLt"
      },
      "source": [
        "import pandas as pd\n",
        "df = pd.read_csv('./auto-mpg.csv', header=None)\n",
        "df.columns = ['mpg','cylinders','displacement','horsepower','weight','acceleration','model year','origin','name']\n",
        "df.info()"
      ],
      "execution_count": null,
      "outputs": []
    },
    {
      "cell_type": "code",
      "metadata": {
        "colab": {
          "base_uri": "https://localhost:8080/",
          "height": 173
        },
        "id": "ABHbatBkuq8K",
        "outputId": "4d4319d0-98df-4799-f1d8-6cce56003853"
      },
      "source": [
        "# df.describe(include='all')\n",
        "df[['horsepower','name']].describe(include='all')"
      ],
      "execution_count": 9,
      "outputs": [
        {
          "output_type": "execute_result",
          "data": {
            "text/html": [
              "<div>\n",
              "<style scoped>\n",
              "    .dataframe tbody tr th:only-of-type {\n",
              "        vertical-align: middle;\n",
              "    }\n",
              "\n",
              "    .dataframe tbody tr th {\n",
              "        vertical-align: top;\n",
              "    }\n",
              "\n",
              "    .dataframe thead th {\n",
              "        text-align: right;\n",
              "    }\n",
              "</style>\n",
              "<table border=\"1\" class=\"dataframe\">\n",
              "  <thead>\n",
              "    <tr style=\"text-align: right;\">\n",
              "      <th></th>\n",
              "      <th>horsepower</th>\n",
              "      <th>name</th>\n",
              "    </tr>\n",
              "  </thead>\n",
              "  <tbody>\n",
              "    <tr>\n",
              "      <th>count</th>\n",
              "      <td>398</td>\n",
              "      <td>398</td>\n",
              "    </tr>\n",
              "    <tr>\n",
              "      <th>unique</th>\n",
              "      <td>94</td>\n",
              "      <td>305</td>\n",
              "    </tr>\n",
              "    <tr>\n",
              "      <th>top</th>\n",
              "      <td>150.0</td>\n",
              "      <td>ford pinto</td>\n",
              "    </tr>\n",
              "    <tr>\n",
              "      <th>freq</th>\n",
              "      <td>22</td>\n",
              "      <td>6</td>\n",
              "    </tr>\n",
              "  </tbody>\n",
              "</table>\n",
              "</div>"
            ],
            "text/plain": [
              "       horsepower        name\n",
              "count         398         398\n",
              "unique         94         305\n",
              "top         150.0  ford pinto\n",
              "freq           22           6"
            ]
          },
          "metadata": {
            "tags": []
          },
          "execution_count": 9
        }
      ]
    },
    {
      "cell_type": "code",
      "metadata": {
        "colab": {
          "base_uri": "https://localhost:8080/"
        },
        "id": "gEPCOKFZu9eI",
        "outputId": "c6d04763-46fa-4a89-d65d-dcadceaa635a"
      },
      "source": [
        " df['horsepower'].value_counts()"
      ],
      "execution_count": 10,
      "outputs": [
        {
          "output_type": "execute_result",
          "data": {
            "text/plain": [
              "150.0    22\n",
              "90.00    20\n",
              "88.00    19\n",
              "110.0    18\n",
              "100.0    17\n",
              "         ..\n",
              "167.0     1\n",
              "107.0     1\n",
              "132.0     1\n",
              "210.0     1\n",
              "208.0     1\n",
              "Name: horsepower, Length: 94, dtype: int64"
            ]
          },
          "metadata": {
            "tags": []
          },
          "execution_count": 10
        }
      ]
    },
    {
      "cell_type": "code",
      "metadata": {
        "id": "g02JP2QKv_Nv"
      },
      "source": [
        "# df['horsepower'].astype('float')"
      ],
      "execution_count": null,
      "outputs": []
    },
    {
      "cell_type": "code",
      "metadata": {
        "colab": {
          "base_uri": "https://localhost:8080/"
        },
        "id": "MWfeTh0QyCD4",
        "outputId": "616dff2b-f5ac-491a-b172-f53fbc84ad51"
      },
      "source": [
        "df['horsepower'].unique()"
      ],
      "execution_count": 12,
      "outputs": [
        {
          "output_type": "execute_result",
          "data": {
            "text/plain": [
              "array(['130.0', '165.0', '150.0', '140.0', '198.0', '220.0', '215.0',\n",
              "       '225.0', '190.0', '170.0', '160.0', '95.00', '97.00', '85.00',\n",
              "       '88.00', '46.00', '87.00', '90.00', '113.0', '200.0', '210.0',\n",
              "       '193.0', '?', '100.0', '105.0', '175.0', '153.0', '180.0', '110.0',\n",
              "       '72.00', '86.00', '70.00', '76.00', '65.00', '69.00', '60.00',\n",
              "       '80.00', '54.00', '208.0', '155.0', '112.0', '92.00', '145.0',\n",
              "       '137.0', '158.0', '167.0', '94.00', '107.0', '230.0', '49.00',\n",
              "       '75.00', '91.00', '122.0', '67.00', '83.00', '78.00', '52.00',\n",
              "       '61.00', '93.00', '148.0', '129.0', '96.00', '71.00', '98.00',\n",
              "       '115.0', '53.00', '81.00', '79.00', '120.0', '152.0', '102.0',\n",
              "       '108.0', '68.00', '58.00', '149.0', '89.00', '63.00', '48.00',\n",
              "       '66.00', '139.0', '103.0', '125.0', '133.0', '138.0', '135.0',\n",
              "       '142.0', '77.00', '62.00', '132.0', '84.00', '64.00', '74.00',\n",
              "       '116.0', '82.00'], dtype=object)"
            ]
          },
          "metadata": {
            "tags": []
          },
          "execution_count": 12
        }
      ]
    },
    {
      "cell_type": "code",
      "metadata": {
        "colab": {
          "base_uri": "https://localhost:8080/"
        },
        "id": "FB_YA-f8yPeE",
        "outputId": "09e0ee1a-f890-49f4-d03e-0c35f31d0c1d"
      },
      "source": [
        "df_horsepower = df['horsepower'].replace(to_replace='?', value=None, inplace=False)\n",
        "df_horsepower.unique()"
      ],
      "execution_count": 17,
      "outputs": [
        {
          "output_type": "execute_result",
          "data": {
            "text/plain": [
              "array(['130.0', '165.0', '150.0', '140.0', '198.0', '220.0', '215.0',\n",
              "       '225.0', '190.0', '170.0', '160.0', '95.00', '97.00', '85.00',\n",
              "       '88.00', '46.00', '87.00', '90.00', '113.0', '200.0', '210.0',\n",
              "       '193.0', '100.0', '105.0', '175.0', '153.0', '180.0', '110.0',\n",
              "       '72.00', '86.00', '70.00', '76.00', '65.00', '69.00', '60.00',\n",
              "       '80.00', '54.00', '208.0', '155.0', '112.0', '92.00', '145.0',\n",
              "       '137.0', '158.0', '167.0', '94.00', '107.0', '230.0', '49.00',\n",
              "       '75.00', '91.00', '122.0', '67.00', '83.00', '78.00', '52.00',\n",
              "       '61.00', '93.00', '148.0', '129.0', '96.00', '71.00', '98.00',\n",
              "       '115.0', '53.00', '81.00', '79.00', '120.0', '152.0', '102.0',\n",
              "       '108.0', '68.00', '58.00', '149.0', '89.00', '63.00', '48.00',\n",
              "       '66.00', '139.0', '103.0', '125.0', '133.0', '138.0', '135.0',\n",
              "       '142.0', '77.00', '62.00', '132.0', '84.00', '64.00', '74.00',\n",
              "       '116.0', '82.00'], dtype=object)"
            ]
          },
          "metadata": {
            "tags": []
          },
          "execution_count": 17
        }
      ]
    },
    {
      "cell_type": "code",
      "metadata": {
        "colab": {
          "base_uri": "https://localhost:8080/"
        },
        "id": "Pu_QQicnyxQy",
        "outputId": "ab5f7849-2884-4ec9-b1e8-be9589ee80b2"
      },
      "source": [
        "# type(df['horsepower'])"
      ],
      "execution_count": 13,
      "outputs": [
        {
          "output_type": "execute_result",
          "data": {
            "text/plain": [
              "pandas.core.series.Series"
            ]
          },
          "metadata": {
            "tags": []
          },
          "execution_count": 13
        }
      ]
    },
    {
      "cell_type": "markdown",
      "metadata": {
        "id": "vIwTfyAYyswk"
      },
      "source": [
        "pandas.DataFrame.replace\n",
        "\n",
        "https://pandas.pydata.org/docs/reference/api/pandas.DataFrame.replace.html"
      ]
    },
    {
      "cell_type": "code",
      "metadata": {
        "colab": {
          "base_uri": "https://localhost:8080/"
        },
        "id": "EvATSkjf0etD",
        "outputId": "bde8295e-fa8e-4867-b765-9da1b7652081"
      },
      "source": [
        "type(df_horsepower), df_horsepower.dtypes"
      ],
      "execution_count": 19,
      "outputs": [
        {
          "output_type": "execute_result",
          "data": {
            "text/plain": [
              "(pandas.core.series.Series, dtype('O'))"
            ]
          },
          "metadata": {
            "tags": []
          },
          "execution_count": 19
        }
      ]
    },
    {
      "cell_type": "markdown",
      "metadata": {
        "id": "DpDSgoxu0uIm"
      },
      "source": [
        "dtype('O') -> Object: 통계값 X"
      ]
    },
    {
      "cell_type": "code",
      "metadata": {
        "colab": {
          "base_uri": "https://localhost:8080/"
        },
        "id": "-H_nbXTB0kyl",
        "outputId": "5e839b38-fb9a-493f-b212-0d87a3b7326e"
      },
      "source": [
        "df_horsepower = df_horsepower.astype('float')\n",
        "df_horsepower.mean()"
      ],
      "execution_count": 21,
      "outputs": [
        {
          "output_type": "execute_result",
          "data": {
            "text/plain": [
              "104.178391959799"
            ]
          },
          "metadata": {
            "tags": []
          },
          "execution_count": 21
        }
      ]
    },
    {
      "cell_type": "code",
      "metadata": {
        "colab": {
          "base_uri": "https://localhost:8080/"
        },
        "id": "HJbyqvmW0-WK",
        "outputId": "25765697-2baf-4e36-ce85-897738bb22b7"
      },
      "source": [
        "df['horesepower'] = df_horsepower.fillna(104)\n",
        "df.info()"
      ],
      "execution_count": 23,
      "outputs": [
        {
          "output_type": "stream",
          "text": [
            "<class 'pandas.core.frame.DataFrame'>\n",
            "RangeIndex: 398 entries, 0 to 397\n",
            "Data columns (total 10 columns):\n",
            " #   Column        Non-Null Count  Dtype  \n",
            "---  ------        --------------  -----  \n",
            " 0   mpg           398 non-null    float64\n",
            " 1   cylinders     398 non-null    int64  \n",
            " 2   displacement  398 non-null    float64\n",
            " 3   horsepower    398 non-null    object \n",
            " 4   weight        398 non-null    float64\n",
            " 5   acceleration  398 non-null    float64\n",
            " 6   model year    398 non-null    int64  \n",
            " 7   origin        398 non-null    int64  \n",
            " 8   name          398 non-null    object \n",
            " 9   horesepower   398 non-null    float64\n",
            "dtypes: float64(5), int64(3), object(2)\n",
            "memory usage: 31.2+ KB\n"
          ],
          "name": "stdout"
        }
      ]
    },
    {
      "cell_type": "code",
      "metadata": {
        "id": "W0ib5nk51YU0"
      },
      "source": [
        "df['name'].unique()"
      ],
      "execution_count": null,
      "outputs": []
    },
    {
      "cell_type": "code",
      "metadata": {
        "colab": {
          "base_uri": "https://localhost:8080/"
        },
        "id": "WH6i3voN2Iyf",
        "outputId": "10d8a3d6-cdd5-4442-f0a0-9ae4157e57f3"
      },
      "source": [
        "df['origin']"
      ],
      "execution_count": 25,
      "outputs": [
        {
          "output_type": "execute_result",
          "data": {
            "text/plain": [
              "0      1\n",
              "1      1\n",
              "2      1\n",
              "3      1\n",
              "4      1\n",
              "      ..\n",
              "393    1\n",
              "394    2\n",
              "395    1\n",
              "396    1\n",
              "397    1\n",
              "Name: origin, Length: 398, dtype: int64"
            ]
          },
          "metadata": {
            "tags": []
          },
          "execution_count": 25
        }
      ]
    },
    {
      "cell_type": "code",
      "metadata": {
        "colab": {
          "base_uri": "https://localhost:8080/",
          "height": 204
        },
        "id": "aQ1lsDdS2k07",
        "outputId": "1a9332ac-1e3a-4a4a-87fe-89af9537c0db"
      },
      "source": [
        "df.head()"
      ],
      "execution_count": 26,
      "outputs": [
        {
          "output_type": "execute_result",
          "data": {
            "text/html": [
              "<div>\n",
              "<style scoped>\n",
              "    .dataframe tbody tr th:only-of-type {\n",
              "        vertical-align: middle;\n",
              "    }\n",
              "\n",
              "    .dataframe tbody tr th {\n",
              "        vertical-align: top;\n",
              "    }\n",
              "\n",
              "    .dataframe thead th {\n",
              "        text-align: right;\n",
              "    }\n",
              "</style>\n",
              "<table border=\"1\" class=\"dataframe\">\n",
              "  <thead>\n",
              "    <tr style=\"text-align: right;\">\n",
              "      <th></th>\n",
              "      <th>mpg</th>\n",
              "      <th>cylinders</th>\n",
              "      <th>displacement</th>\n",
              "      <th>horsepower</th>\n",
              "      <th>weight</th>\n",
              "      <th>acceleration</th>\n",
              "      <th>model year</th>\n",
              "      <th>origin</th>\n",
              "      <th>name</th>\n",
              "      <th>horesepower</th>\n",
              "    </tr>\n",
              "  </thead>\n",
              "  <tbody>\n",
              "    <tr>\n",
              "      <th>0</th>\n",
              "      <td>18.0</td>\n",
              "      <td>8</td>\n",
              "      <td>307.0</td>\n",
              "      <td>130.0</td>\n",
              "      <td>3504.0</td>\n",
              "      <td>12.0</td>\n",
              "      <td>70</td>\n",
              "      <td>1</td>\n",
              "      <td>chevrolet chevelle malibu</td>\n",
              "      <td>130.0</td>\n",
              "    </tr>\n",
              "    <tr>\n",
              "      <th>1</th>\n",
              "      <td>15.0</td>\n",
              "      <td>8</td>\n",
              "      <td>350.0</td>\n",
              "      <td>165.0</td>\n",
              "      <td>3693.0</td>\n",
              "      <td>11.5</td>\n",
              "      <td>70</td>\n",
              "      <td>1</td>\n",
              "      <td>buick skylark 320</td>\n",
              "      <td>165.0</td>\n",
              "    </tr>\n",
              "    <tr>\n",
              "      <th>2</th>\n",
              "      <td>18.0</td>\n",
              "      <td>8</td>\n",
              "      <td>318.0</td>\n",
              "      <td>150.0</td>\n",
              "      <td>3436.0</td>\n",
              "      <td>11.0</td>\n",
              "      <td>70</td>\n",
              "      <td>1</td>\n",
              "      <td>plymouth satellite</td>\n",
              "      <td>150.0</td>\n",
              "    </tr>\n",
              "    <tr>\n",
              "      <th>3</th>\n",
              "      <td>16.0</td>\n",
              "      <td>8</td>\n",
              "      <td>304.0</td>\n",
              "      <td>150.0</td>\n",
              "      <td>3433.0</td>\n",
              "      <td>12.0</td>\n",
              "      <td>70</td>\n",
              "      <td>1</td>\n",
              "      <td>amc rebel sst</td>\n",
              "      <td>150.0</td>\n",
              "    </tr>\n",
              "    <tr>\n",
              "      <th>4</th>\n",
              "      <td>17.0</td>\n",
              "      <td>8</td>\n",
              "      <td>302.0</td>\n",
              "      <td>140.0</td>\n",
              "      <td>3449.0</td>\n",
              "      <td>10.5</td>\n",
              "      <td>70</td>\n",
              "      <td>1</td>\n",
              "      <td>ford torino</td>\n",
              "      <td>140.0</td>\n",
              "    </tr>\n",
              "  </tbody>\n",
              "</table>\n",
              "</div>"
            ],
            "text/plain": [
              "    mpg  cylinders  ...                       name horesepower\n",
              "0  18.0          8  ...  chevrolet chevelle malibu       130.0\n",
              "1  15.0          8  ...          buick skylark 320       165.0\n",
              "2  18.0          8  ...         plymouth satellite       150.0\n",
              "3  16.0          8  ...              amc rebel sst       150.0\n",
              "4  17.0          8  ...                ford torino       140.0\n",
              "\n",
              "[5 rows x 10 columns]"
            ]
          },
          "metadata": {
            "tags": []
          },
          "execution_count": 26
        }
      ]
    },
    {
      "cell_type": "code",
      "metadata": {
        "id": "LeLsWf1S2pi6"
      },
      "source": [
        ""
      ],
      "execution_count": null,
      "outputs": []
    }
  ]
}